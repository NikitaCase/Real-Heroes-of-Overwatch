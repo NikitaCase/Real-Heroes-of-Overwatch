{
 "cells": [
  {
   "cell_type": "code",
   "execution_count": 16,
   "metadata": {},
   "outputs": [],
   "source": [
    "import matplotlib\n",
    "import matplotlib.pyplot as plt\n",
    "import numpy as np\n",
    "import requests\n",
    "import json\n"
   ]
  },
  {
   "cell_type": "code",
   "execution_count": null,
   "metadata": {},
   "outputs": [],
   "source": [
    "url1 = \"https://api.overwatchleague.com/players\"\n",
    "url2 = \"https://api.overwatchleague.com/stats/players\"\n",
    "\n",
    "url2 = \"https://api.overwatchleague.com/stats/players\"\n",
    "response1 = requests.get(url1)\n",
    "\n",
    "data1 = response.json()"
   ]
  },
  {
   "cell_type": "code",
   "execution_count": null,
   "metadata": {},
   "outputs": [],
   "source": []
  },
  {
   "cell_type": "code",
   "execution_count": null,
   "metadata": {},
   "outputs": [],
   "source": []
  },
  {
   "cell_type": "code",
   "execution_count": null,
   "metadata": {},
   "outputs": [],
   "source": []
  },
  {
   "cell_type": "code",
   "execution_count": null,
   "metadata": {},
   "outputs": [],
   "source": []
  },
  {
   "cell_type": "code",
   "execution_count": null,
   "metadata": {},
   "outputs": [],
   "source": []
  },
  {
   "cell_type": "code",
   "execution_count": null,
   "metadata": {},
   "outputs": [],
   "source": []
  },
  {
   "cell_type": "code",
   "execution_count": 14,
   "metadata": {},
   "outputs": [],
   "source": [
    "labels = ['H1', 'H2', 'H3', 'H4', 'H5']\n",
    "#(labels will be = lists below)\n",
    "\n",
    "top_player_means = [20, 34, 30, 35, 27]\n",
    "other_player_means = [25, 32, 34, 20, 25]\n",
    "team_means = [26, 42, 38, 18, 26]\n",
    "\n",
    "\n",
    "tanks = ['D. Va', 'Orisa', 'Reinhardt', 'Roadhog', 'Sigma', 'Winston', 'Wrecking Ball', 'Zarya']\n",
    "damage = ['Ashe', 'Baston','Doomfist','Echo', 'Genji','Hanzo','Junkrat','McCree','Mei','Pharah','Reaper','Soldier: 76','Sombra','Symmetra','Torbjorn','Tracer','Widowmaker']\n",
    "support = ['Ana','Baptiste','Brigitte','Lucio','Mercy','Moira','Zenyatta']\n"
   ]
  },
  {
   "cell_type": "code",
   "execution_count": 15,
   "metadata": {},
   "outputs": [
    {
     "data": {
      "image/png": "[encoded data removed]",
      "text/plain": [
       "<Figure size 432x288 with 1 Axes>"
      ]
     },
     "metadata": {
      "needs_background": "light"
     },
     "output_type": "display_data"
    }
   ],
   "source": [
    "\n",
    "x = np.arange(len(labels))  # the label locations\n",
    "width = 0.35  # the width of the bars\n",
    "\n",
    "# Set position of bar on X axis\n",
    "\n",
    "r1 = np.arange(len(labels))\n",
    "barWidth = 0.25\n",
    "r2 = [x + barWidth for x in r1]\n",
    "r3 = [x + barWidth for x in r2]\n",
    "\n",
    "\n",
    "plt.bar(r1, top_player_means, color='#e3ba22', width=barWidth,  label='Top players')\n",
    "plt.bar(r2, other_player_means, color='#137b80', width=barWidth,  label='Average stats for Champion')\n",
    "plt.bar(r3, team_means, color='#8e6c8a', width=barWidth,  label='Team Mean')\n",
    "\n",
    "# Add some text for labels, title and custom x-axis tick labels, etc.\n",
    "plt.ylabel('Average Stats')\n",
    "plt.title('Best Tanks')\n",
    "plt.legend()\n",
    "\n",
    "plt.xticks(x, labels, rotation=90)\n",
    "\n",
    "fig.tight_layout()\n",
    "plt.show()"
   ]
  },
  {
   "cell_type": "code",
   "execution_count": null,
   "metadata": {},
   "outputs": [],
   "source": []
  }
 ],
 "metadata": {
  "kernelspec": {
   "display_name": "Python 3",
   "language": "python",
   "name": "python3"
  },
  "language_info": {
   "codemirror_mode": {
    "name": "ipython",
    "version": 3
   },
   "file_extension": ".py",
   "mimetype": "text/x-python",
   "name": "python",
   "nbconvert_exporter": "python",
   "pygments_lexer": "ipython3",
   "version": "3.8.3"
  }
 },
 "nbformat": 4,
 "nbformat_minor": 4
}
