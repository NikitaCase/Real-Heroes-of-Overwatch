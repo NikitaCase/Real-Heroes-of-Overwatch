{
 "cells": [
  {
   "cell_type": "code",
   "execution_count": 1,
   "metadata": {},
   "outputs": [
    {
     "name": "stderr",
     "output_type": "stream",
     "text": [
      "UsageError: Line magic function `%` not found.\n"
     ]
    }
   ],
   "source": [
    "% run ('Compiled Overwatch Dataframe 1.1.ipynb')"
   ]
  },
  {
   "cell_type": "code",
   "execution_count": 34,
   "metadata": {},
   "outputs": [
    {
     "data": {
      "text/html": [
       "<div>\n",
       "<style scoped>\n",
       "    .dataframe tbody tr th:only-of-type {\n",
       "        vertical-align: middle;\n",
       "    }\n",
       "\n",
       "    .dataframe tbody tr th {\n",
       "        vertical-align: top;\n",
       "    }\n",
       "\n",
       "    .dataframe thead th {\n",
       "        text-align: right;\n",
       "    }\n",
       "</style>\n",
       "<table border=\"1\" class=\"dataframe\">\n",
       "  <thead>\n",
       "    <tr style=\"text-align: right;\">\n",
       "      <th></th>\n",
       "      <th>nationality</th>\n",
       "    </tr>\n",
       "  </thead>\n",
       "  <tbody>\n",
       "    <tr>\n",
       "      <th>KR</th>\n",
       "      <td>87</td>\n",
       "    </tr>\n",
       "    <tr>\n",
       "      <th>US</th>\n",
       "      <td>16</td>\n",
       "    </tr>\n",
       "    <tr>\n",
       "      <th>CN</th>\n",
       "      <td>14</td>\n",
       "    </tr>\n",
       "    <tr>\n",
       "      <th>FR</th>\n",
       "      <td>5</td>\n",
       "    </tr>\n",
       "    <tr>\n",
       "      <th>GB</th>\n",
       "      <td>5</td>\n",
       "    </tr>\n",
       "    <tr>\n",
       "      <th>FI</th>\n",
       "      <td>4</td>\n",
       "    </tr>\n",
       "    <tr>\n",
       "      <th>CA</th>\n",
       "      <td>3</td>\n",
       "    </tr>\n",
       "    <tr>\n",
       "      <th>SE</th>\n",
       "      <td>2</td>\n",
       "    </tr>\n",
       "    <tr>\n",
       "      <th>DK</th>\n",
       "      <td>2</td>\n",
       "    </tr>\n",
       "    <tr>\n",
       "      <th>AU</th>\n",
       "      <td>1</td>\n",
       "    </tr>\n",
       "    <tr>\n",
       "      <th>VN</th>\n",
       "      <td>1</td>\n",
       "    </tr>\n",
       "    <tr>\n",
       "      <th>NZ</th>\n",
       "      <td>1</td>\n",
       "    </tr>\n",
       "    <tr>\n",
       "      <th>IL</th>\n",
       "      <td>1</td>\n",
       "    </tr>\n",
       "    <tr>\n",
       "      <th>BE</th>\n",
       "      <td>1</td>\n",
       "    </tr>\n",
       "    <tr>\n",
       "      <th>BR</th>\n",
       "      <td>1</td>\n",
       "    </tr>\n",
       "  </tbody>\n",
       "</table>\n",
       "</div>"
      ],
      "text/plain": [
       "    nationality\n",
       "KR           87\n",
       "US           16\n",
       "CN           14\n",
       "FR            5\n",
       "GB            5\n",
       "FI            4\n",
       "CA            3\n",
       "SE            2\n",
       "DK            2\n",
       "AU            1\n",
       "VN            1\n",
       "NZ            1\n",
       "IL            1\n",
       "BE            1\n",
       "BR            1"
      ]
     },
     "execution_count": 34,
     "metadata": {},
     "output_type": "execute_result"
    }
   ],
   "source": [
    "nationality_count = pd.DataFrame(df['nationality'].value_counts())\n",
    "nationality_count"
   ]
  },
  {
   "cell_type": "code",
   "execution_count": null,
   "metadata": {},
   "outputs": [],
   "source": [
    "\n",
    "'''\n",
    "\n",
    "# Generate a box plot of the final tumor volume of each mouse across four regimens of interest\n",
    "Capomulin = final_tvolume_df.loc[final_tvolume_df['Drug Regimen'] =='Capomulin', 'Tumor Volume (mm3)']\n",
    "Ramicane = final_tvolume_df.loc[final_tvolume_df['Drug Regimen'] =='Ramicane', 'Tumor Volume (mm3)']\n",
    "Infubinol = final_tvolume_df.loc[final_tvolume_df['Drug Regimen'] =='Infubinol', 'Tumor Volume (mm3)']\n",
    "Ceftamin = final_tvolume_df.loc[final_tvolume_df['Drug Regimen'] =='Ceftamin', 'Tumor Volume (mm3)']\n",
    "\n",
    "#plt.boxplot()\n",
    "plt.boxplot([Capomulin, Ramicane, Infubinol, Ceftamin], labels=drugs_to_analyse, showmeans=True, showfliers=True, sym=\"c+\")\n",
    "plt.title('Final Tumor Volume across Drug Regimens')\n",
    "plt.ylabel('Final Tumor Volume (mm3)')\n",
    "plt.show()\n",
    "\n",
    "'''"
   ]
  },
  {
   "cell_type": "code",
   "execution_count": null,
   "metadata": {},
   "outputs": [],
   "source": [
    "#Create pie chart of Player Nationality\n",
    "labels = nationality_count.index.tolist()\n",
    "sizes = nationality_count['nationality']\n",
    "\n",
    "plt.pie(sizes, labels=labels, autopct='%1.1f%%', pctdistance=0.85, radius=2.3)\n",
    "\n",
    "#draw circle\n",
    "centre_circle = plt.Circle((0,0),1.25,fc='white')\n",
    "fig = plt.gcf()\n",
    "fig.gca().add_artist(centre_circle)\n",
    "\n",
    "#plt.tight_layout()\n",
    "\n",
    "plt.show()"
   ]
  },
  {
   "cell_type": "code",
<<<<<<< Updated upstream
   "execution_count": 69,
   "metadata": {},
   "outputs": [],
   "source": [
    "labels2 = ['H1', 'H2', 'H3', 'H4', 'H5']\n",
    "#(labels will be = lists below)\n",
    "\n",
    "top_player_means = [20, 34, 30, 35, 27]\n",
    "other_player_means = [25, 32, 34, 20, 25]\n",
    "team_means = [26, 42, 38, 18, 26]\n",
    "\n",
    "\n",
    "tanks = ['D. Va', 'Orisa', 'Reinhardt', 'Roadhog', 'Sigma', 'Winston', 'Wrecking Ball', 'Zarya']\n",
    "damage = ['Ashe', 'Baston','Doomfist','Echo', 'Genji','Hanzo','Junkrat','McCree','Mei','Pharah','Reaper','Soldier: 76','Sombra','Symmetra','Torbjorn','Tracer','Widowmaker']\n",
    "support = ['Ana','Baptiste','Brigitte','Lucio','Mercy','Moira','Zenyatta']\n"
   ]
  },
  {
   "cell_type": "code",
   "execution_count": 73,
   "metadata": {},
   "outputs": [
    {
     "data": {
      "image/png": "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\n",
      "text/plain": [
       "<Figure size 432x288 with 1 Axes>"
      ]
     },
     "metadata": {
      "needs_background": "light"
     },
     "output_type": "display_data"
    }
   ],
   "source": [
    "labels = ['G1', 'G2', 'G3', 'G4', 'G5']\n",
    "top_player_means = [20, 34, 30, 35, 27]\n",
    "av_player_means = [25, 32, 34, 20, 25]\n",
    "\n",
    "x = np.arange(len(labels))  # the label locations\n",
    "width = 0.35  # the width of the bars\n",
    "\n",
    "fig, ax = plt.subplots()\n",
    "rects1 = ax.bar(x - width/2, top_player_means, width, label='Top Player')\n",
    "rects2 = ax.bar(x + width/2, av_player_means, width, label='Average Player')\n",
    "\n",
    "# Add some text for labels, title and custom x-axis tick labels, etc.\n",
    "\n",
    "ax.set_ylabel('Average Stats')\n",
    "ax.set_title('Best Tanks')\n",
    "ax.set_xticks(x)\n",
    "ax.set_xticklabels(labels)\n",
    "ax.legend()\n",
    "\n",
    "\n",
    "def autolabel(rects):\n",
    "    \"\"\"Attach a text label above each bar in *rects*, displaying its height.\"\"\"\n",
    "    for rect in rects:\n",
    "        height = rect.get_height()\n",
    "        ax.annotate('{}'.format(height),\n",
    "                    xy=(rect.get_x() + rect.get_width() / 2, height),\n",
    "                    xytext=(0, 3),  # 3 points vertical offset\n",
    "                    textcoords=\"offset points\",\n",
    "                    ha='center', va='bottom')\n",
    "\n",
    "\n",
    "autolabel(rects1)\n",
    "autolabel(rects2)\n",
    "\n",
    "fig.tight_layout()"
   ]
  },
  {
   "cell_type": "code",
=======
>>>>>>> Stashed changes
   "execution_count": null,
   "metadata": {},
   "outputs": [],
   "source": [
    "#Create bar graph of best players vs average players "
   ]
  },
  {
   "cell_type": "code",
   "execution_count": null,
   "metadata": {},
   "outputs": [],
   "source": [
    "labelss = [\n",
    "    (support_df.iloc[0,0]),\n",
    "    (support_df.iloc[1,0]),\n",
    "    (support_df.iloc[2,0]),\n",
    "    (offense_df.iloc[0,0]),\n",
    "    (offense_df.iloc[1,0]),\n",
    "    (offense_df.iloc[2,0]),\n",
    "    (tank_df.iloc[0,0]),\n",
    "    (tank_df.iloc[1,0]),\n",
    "    (tank_df.iloc[2,0]),   \n",
    "]\n",
    "\n",
    "pickrates = [\n",
    "    (support_df.iloc[0,3]),\n",
    "    (support_df.iloc[1,3]),\n",
    "    (support_df.iloc[2,3]),\n",
    "    (offense_df.iloc[0,3]),\n",
    "    (offense_df.iloc[1,3]),\n",
    "    (offense_df.iloc[2,3]),\n",
    "    (tank_df.iloc[0,3]),\n",
    "    (tank_df.iloc[1,3]),\n",
    "    (tank_df.iloc[2,3]),   \n",
    "]\n",
    "\n",
    "colors_pickrates = ['#ffd254','#ffb31f','#ff9102',\n",
    "                    '#14dc71','#1bbd66','#17a258',\n",
    "                   '#27dbf5','#13b8e8','#0989c2']\n",
    "N=9\n",
    "theta = 2 * np.pi * np.random.rand(N)\n",
    "\n",
    "x_axis = np.arange(len(labelss))\n",
    "plt.xticks(x_axis, labelss, rotation=90)\n",
    "\n",
    "plt.bar(x_axis, pickrates, align='center', color=colors_pickrates)\n",
    "plt.title('Pick Rates of the Most Popular Heroes in 2019 Season')\n",
    "plt.ylabel('Pickrate / %')\n",
    "plt.ylim(0,(max(pickrates))+(max(pickrates)*0.2))\n",
    "\n",
    "plt.show()"
   ]
  }
 ],
 "metadata": {
  "kernelspec": {
   "display_name": "Python 3",
   "language": "python",
   "name": "python3"
  },
  "language_info": {
   "codemirror_mode": {
    "name": "ipython",
    "version": 3
   },
   "file_extension": ".py",
   "mimetype": "text/x-python",
   "name": "python",
   "nbconvert_exporter": "python",
   "pygments_lexer": "ipython3",
   "version": "3.8.3"
  }
 },
 "nbformat": 4,
 "nbformat_minor": 4
}
